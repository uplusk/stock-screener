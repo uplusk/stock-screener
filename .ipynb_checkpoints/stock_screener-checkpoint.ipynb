{
 "cells": [
  {
   "cell_type": "markdown",
   "metadata": {},
   "source": [
    "# Stock Screening : Fundamentals and Technical Indicators"
   ]
  },
  {
   "cell_type": "markdown",
   "metadata": {},
   "source": [
    "I've done basic stock data modelling, future price prediction using quandl and fbprophet. Also I have used Stocker (courtsey: William Koehrsen) which is a brilliant stock explorer library that helps you create a nice pricing model for a stock. \n",
    "It's time to take it up a notch. Now I want my notebooks to be interactive, take input from the user and accordingly change the results displayed in my notebook.\n",
    "\n",
    "Our idea here is to get live quotes for a stock and also prepare a dashboard that has the fundamentals as well as basic technical indicators for that stock."
   ]
  },
  {
   "cell_type": "markdown",
   "metadata": {},
   "source": [
    "Importing necessary libraries to get live stock quotes and run a basic Tech analysis for that stock. "
   ]
  },
  {
   "cell_type": "code",
   "execution_count": 1,
   "metadata": {},
   "outputs": [
    {
     "name": "stderr",
     "output_type": "stream",
     "text": [
      "C:\\Users\\133924\\AppData\\Local\\Continuum\\anaconda3\\lib\\site-packages\\matplotlib\\cbook\\deprecation.py:106: MatplotlibDeprecationWarning: The finance module has been deprecated in mpl 2.0 and will be removed in mpl 2.2. Please use the module mpl_finance instead.\n",
      "  warnings.warn(message, mplDeprecation, stacklevel=1)\n"
     ]
    }
   ],
   "source": [
    "from ipywidgets import widgets\n",
    "import requests\n",
    "import json\n",
    "import time\n",
    "from io import StringIO\n",
    "\n",
    "import numpy as np\n",
    "import pandas as pd\n",
    "import matplotlib.pyplot as plt\n",
    "%matplotlib inline \n",
    "import datetime\n",
    "\n",
    "import matplotlib.dates as mdates\n",
    "import matplotlib.ticker as mticker\n",
    "from matplotlib.finance import candlestick_ohlc\n",
    "\n",
    "from selenium import webdriver\n",
    "from selenium.webdriver.chrome.options import Options\n",
    "import os\n",
    "from bs4 import BeautifulSoup\n",
    "\n",
    "import quandl\n",
    "quandl.ApiConfig.api_key = \"sY8rR9LTz4kT5z2cs94v\" #set API key\n",
    "\n",
    "#Importing all classes from screener.py\n",
    "from screener import *\n",
    "\n",
    "plt.rcParams['figure.figsize']=(20,10)\n",
    "plt.style.use('ggplot')\n",
    "now = datetime.datetime.now()\n"
   ]
  },
  {
   "cell_type": "code",
   "execution_count": 2,
   "metadata": {
    "collapsed": true
   },
   "outputs": [],
   "source": [
    "from IPython.display import display\n",
    "stock_symbol = widgets.Text()\n",
    "exchange_name = widgets.Text()\n",
    "submit_button = widgets.Button(description = \"Get Quotes\")"
   ]
  },
  {
   "cell_type": "code",
   "execution_count": 3,
   "metadata": {
    "collapsed": true
   },
   "outputs": [],
   "source": [
    "def on_submit(b):\n",
    "    exchange = exchange_name.value.upper()\n",
    "    symbol = stock_symbol.value.upper()\n",
    "    \n",
    "    a = AlphaFinanceAPI()\n",
    "    stock_quotes = a.get(symbol.upper())\n",
    "    \n",
    "    q = Quandl()\n",
    "    u = Utils()\n",
    "    g = u.choose_exchange(exchange)\n",
    "    stock_hist = g.get_historical(exchange,symbol)\n",
    "    print('\\n'+symbol+' Current Price : {}\\n'.format(stock_quotes['4. close']))\n",
    "    print('\\nOpening Price : {}\\n'.format(stock_hist.iloc[-1]['Close']))\n",
    "    \n",
    "    if exchange == 'NSE':\n",
    "        print('\\n')\n",
    "        print(symbol+\" Fundamentals: \\n\")\n",
    "        f = Fundamentals()\n",
    "        f.get_screener(symbol)\n",
    "    print('\\nHistorical Candlestick chart(beginning FY14):\\n')\n",
    "    q.plot(stock_hist)"
   ]
  },
  {
   "cell_type": "markdown",
   "metadata": {},
   "source": [
    "Enter exchange name and stock/ticker symbol (in that order) for the stock's fundamentals that you want to analyse."
   ]
  },
  {
   "cell_type": "code",
   "execution_count": 4,
   "metadata": {},
   "outputs": [
    {
     "data": {
      "application/vnd.jupyter.widget-view+json": {
       "model_id": "887a32872cc64325aab23abbb475291b",
       "version_major": 2,
       "version_minor": 0
      },
      "text/plain": [
       "A Jupyter Widget"
      ]
     },
     "metadata": {},
     "output_type": "display_data"
    },
    {
     "data": {
      "application/vnd.jupyter.widget-view+json": {
       "model_id": "8ff6a40c93ec4ce79076acf3bfb73df4",
       "version_major": 2,
       "version_minor": 0
      },
      "text/plain": [
       "A Jupyter Widget"
      ]
     },
     "metadata": {},
     "output_type": "display_data"
    },
    {
     "data": {
      "application/vnd.jupyter.widget-view+json": {
       "model_id": "b9ab66bf6010460f9bd323c9ce237d70",
       "version_major": 2,
       "version_minor": 0
      },
      "text/plain": [
       "A Jupyter Widget"
      ]
     },
     "metadata": {},
     "output_type": "display_data"
    },
    {
     "name": "stdout",
     "output_type": "stream",
     "text": [
      "\n",
      "RELIANCE Current Price : 940.1000\n",
      "\n",
      "\n",
      "Opening Price : 937.05\n",
      "\n",
      "\n",
      "\n",
      "RELIANCE Fundamentals: \n",
      "\n"
     ]
    }
   ],
   "source": [
    "display(exchange_name)\n",
    "display(stock_symbol)\n",
    "display(submit_button)\n",
    "\n",
    "submit_button.on_click(on_submit)"
   ]
  },
  {
   "cell_type": "code",
   "execution_count": 5,
   "metadata": {
    "collapsed": true
   },
   "outputs": [],
   "source": [
    "fund_button = widgets.Button(description = 'Fundamentals')\n",
    "\n",
    "def click_fundamentals(b):\n",
    "    exchange = exchange_name.value.upper()\n",
    "    symbol = stock_symbol.value.upper()\n",
    "    print(symbol+\" Fundamentals: \")\n",
    "    f = Fundamentals()\n",
    "    f.get_traview(exchange,symbol)\n"
   ]
  },
  {
   "cell_type": "code",
   "execution_count": 6,
   "metadata": {},
   "outputs": [
    {
     "data": {
      "application/vnd.jupyter.widget-view+json": {
       "model_id": "b9f1bb3be86840179901d9b05e9fe344",
       "version_major": 2,
       "version_minor": 0
      },
      "text/plain": [
       "A Jupyter Widget"
      ]
     },
     "metadata": {},
     "output_type": "display_data"
    }
   ],
   "source": [
    "display(fund_button)\n",
    "fund_button.on_click(click_fundamentals)"
   ]
  },
  {
   "cell_type": "code",
   "execution_count": 7,
   "metadata": {
    "collapsed": true
   },
   "outputs": [],
   "source": [
    "cci_button = widgets.Button(description = 'CCI')\n",
    "rsi_button = widgets.Button(description = 'RSI')\n",
    "ewma_button = widgets.Button(description = 'EWMA')\n",
    "macd_button = widgets.Button(description='MACD')\n",
    "\n",
    "\n",
    "def click_cci(b):\n",
    "    exchange = exchange_name.value.upper()\n",
    "    symbol = stock_symbol.value.upper()\n",
    "    print('Commodity Channel Index(CCI)\\n')\n",
    "    t = TechIndicators()\n",
    "    u = Utils()\n",
    "    q = u.choose_exchange(exchange)\n",
    "    stock_hist = q.get_historical(exchange,symbol)\n",
    "    cci = t.CCI(stock_hist)\n",
    "    t.plot(stock_hist,cci)\n",
    "\n",
    "def click_rsi(b):\n",
    "    exchange = exchange_name.value.upper()\n",
    "    symbol = stock_symbol.value.upper()\n",
    "    print('\\nRelative Strength Index(RSI)\\n')\n",
    "    t = TechIndicators()\n",
    "    u = Utils()\n",
    "    q = u.choose_exchange(exchange)\n",
    "    stock_hist = q.get_historical(exchange,symbol)\n",
    "    rsi = t.RSI(stock_hist)\n",
    "    t.plot(stock_hist,rsi)\n",
    "    \n",
    "def click_ewma(b):\n",
    "    exchange = exchange_name.value.upper()\n",
    "    symbol = stock_symbol.value.upper()\n",
    "    print('\\nExponential Weighted moving Average(EWMA)\\n')\n",
    "    t = TechIndicators()\n",
    "    u = Utils()\n",
    "    q = u.choose_exchange(exchange)\n",
    "    stock_hist = q.get_historical(exchange,symbol)\n",
    "    t.EWMA(stock_hist)\n",
    "    \n",
    "def click_macd(b):\n",
    "    exchange = exchange_name.value.upper()\n",
    "    symbol = stock_symbol.value.upper()\n",
    "    print('\\nMoving Average Convergence Divergence(MACD)\\n')\n",
    "    t = TechIndicators()\n",
    "    u = Utils()\n",
    "    q = u.choose_exchange(exchange)\n",
    "    stock_hist = q.get_historical(exchange,symbol)\n",
    "    t.MACD(stock_hist)\n",
    "    \n"
   ]
  },
  {
   "cell_type": "markdown",
   "metadata": {},
   "source": [
    "Enter the exchange name and stock symbol in the space above and use the buttons for respective technical indicators"
   ]
  },
  {
   "cell_type": "code",
   "execution_count": 8,
   "metadata": {},
   "outputs": [
    {
     "data": {
      "application/vnd.jupyter.widget-view+json": {
       "model_id": "17c550a2eaf042b38e78383cbf5997e6",
       "version_major": 2,
       "version_minor": 0
      },
      "text/plain": [
       "A Jupyter Widget"
      ]
     },
     "metadata": {},
     "output_type": "display_data"
    },
    {
     "data": {
      "application/vnd.jupyter.widget-view+json": {
       "model_id": "2655f730a2eb414ab2802ef501160dd7",
       "version_major": 2,
       "version_minor": 0
      },
      "text/plain": [
       "A Jupyter Widget"
      ]
     },
     "metadata": {},
     "output_type": "display_data"
    }
   ],
   "source": [
    "display(cci_button)\n",
    "display(rsi_button)\n",
    "\n",
    "cci_button.on_click(click_cci)\n",
    "rsi_button.on_click(click_rsi)"
   ]
  },
  {
   "cell_type": "code",
   "execution_count": 9,
   "metadata": {},
   "outputs": [
    {
     "data": {
      "application/vnd.jupyter.widget-view+json": {
       "model_id": "bed969d103404eca81d14e85c6239535",
       "version_major": 2,
       "version_minor": 0
      },
      "text/plain": [
       "A Jupyter Widget"
      ]
     },
     "metadata": {},
     "output_type": "display_data"
    }
   ],
   "source": [
    "display(ewma_button)\n",
    "ewma_button.on_click(click_ewma)\n"
   ]
  },
  {
   "cell_type": "code",
   "execution_count": 10,
   "metadata": {},
   "outputs": [
    {
     "data": {
      "application/vnd.jupyter.widget-view+json": {
       "model_id": "bb9b5a4576c1438ba237f9751d514b55",
       "version_major": 2,
       "version_minor": 0
      },
      "text/plain": [
       "A Jupyter Widget"
      ]
     },
     "metadata": {},
     "output_type": "display_data"
    }
   ],
   "source": [
    "display(macd_button)\n",
    "macd_button.on_click(click_macd)"
   ]
  },
  {
   "cell_type": "code",
   "execution_count": null,
   "metadata": {
    "collapsed": true
   },
   "outputs": [],
   "source": []
  },
  {
   "cell_type": "code",
   "execution_count": null,
   "metadata": {
    "collapsed": true
   },
   "outputs": [],
   "source": []
  }
 ],
 "metadata": {
  "kernelspec": {
   "display_name": "Python 3",
   "language": "python",
   "name": "python3"
  },
  "language_info": {
   "codemirror_mode": {
    "name": "ipython",
    "version": 3
   },
   "file_extension": ".py",
   "mimetype": "text/x-python",
   "name": "python",
   "nbconvert_exporter": "python",
   "pygments_lexer": "ipython3",
   "version": "3.6.3"
  }
 },
 "nbformat": 4,
 "nbformat_minor": 2
}
